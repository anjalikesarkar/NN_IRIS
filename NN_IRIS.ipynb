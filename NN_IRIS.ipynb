{
 "cells": [
  {
   "cell_type": "markdown",
   "id": "c2abed53-0281-4757-8c85-b954af585974",
   "metadata": {},
   "source": [
    "# Import Libraries"
   ]
  },
  {
   "cell_type": "code",
   "execution_count": 1,
   "id": "4f7873fe-0ab2-4487-8466-276cc1df19d1",
   "metadata": {},
   "outputs": [],
   "source": [
    "import os\n",
    "import torch\n",
    "import torch.nn as nn\n",
    "import torch.nn.functional as F\n",
    "import numpy as np\n",
    "import pandas as pd\n",
    "import matplotlib.pyplot as plt\n",
    "from sklearn.model_selection import train_test_split"
   ]
  },
  {
   "cell_type": "markdown",
   "id": "c0b1193a-f69a-4c47-a7c2-70593113cc0c",
   "metadata": {},
   "source": [
    "# Get the data\n",
    "- Downloading data from git user\n",
    "- IRIS flower dataset:\n",
    "- Features:\n",
    "   - Sepal length (cm)\n",
    "   - Sepal width (cm)\n",
    "   - Petal length (cm)\n",
    "   - Petal width (cm)\n",
    "- Classes :  three species of the iris flower\n",
    "    - Setosa\n",
    "    - Versicolor\n",
    "    - Virginica"
   ]
  },
  {
   "cell_type": "code",
   "execution_count": 3,
   "id": "738c753c-c519-45bb-87f0-07a0e165fa75",
   "metadata": {},
   "outputs": [],
   "source": [
    "# IMPORT DATA\n",
    "data_url = 'https://gist.githubusercontent.com/netj/8836201/raw/6f9306ad21398ea43cba4f7d537619d0e07d5ae3/iris.csv'\n",
    "data = pd.read_csv(data_url)"
   ]
  },
  {
   "cell_type": "markdown",
   "id": "72ed9bfe-6539-428f-80ea-0173ad63be97",
   "metadata": {},
   "source": [
    "# Label the Classes"
   ]
  },
  {
   "cell_type": "code",
   "execution_count": 4,
   "id": "68a13b5c-117d-46f5-bab4-223d7c953fc6",
   "metadata": {},
   "outputs": [
    {
     "name": "stderr",
     "output_type": "stream",
     "text": [
      "C:\\Users\\user\\AppData\\Local\\Temp\\ipykernel_7700\\2806346151.py:4: FutureWarning: Downcasting behavior in `replace` is deprecated and will be removed in a future version. To retain the old behavior, explicitly call `result.infer_objects(copy=False)`. To opt-in to the future behavior, set `pd.set_option('future.no_silent_downcasting', True)`\n",
      "  data['variety'] = data['variety'].replace('Virginica',2)\n"
     ]
    }
   ],
   "source": [
    "#rename last column class to 0,1,2\n",
    "data['variety'] = data['variety'].replace('Setosa',0)\n",
    "data['variety'] = data['variety'].replace('Versicolor',1)\n",
    "data['variety'] = data['variety'].replace('Virginica',2)"
   ]
  },
  {
   "cell_type": "markdown",
   "id": "77159529-041a-497d-adca-bd3a39c9d944",
   "metadata": {},
   "source": [
    "# Splitting data into test and train dataset"
   ]
  },
  {
   "cell_type": "code",
   "execution_count": 5,
   "id": "6ccee824-c7e0-4cce-ac16-33b8cd3c6230",
   "metadata": {},
   "outputs": [],
   "source": [
    "# splitting data in X , y and converting DatFrame into np array\n",
    "X = data.iloc[:,:-1].to_numpy()\n",
    "y = data.iloc[:,-1].to_numpy()\n",
    "\n",
    "# Split data\n",
    "X_train,X_test,y_train,y_test = train_test_split(X,y,train_size=0.8,random_state=42)\n",
    "\n",
    "#converting numpy array to torch for PYTORCH\n",
    "# Now convert NumPy arrays to PyTorch tensors\n",
    "X_train = torch.tensor(X_train, dtype=torch.float32)  # Features (float32 for most ML models)\n",
    "X_test = torch.tensor(X_test, dtype=torch.float32)  # Features (float32 for most ML models)\n",
    "\n",
    "y_train = torch.tensor(y_train, dtype=torch.long)     # Target labels (long for classification)\n",
    "y_test = torch.tensor(y_test, dtype=torch.long)     # Target labels (long for classification)"
   ]
  },
  {
   "cell_type": "markdown",
   "id": "4bdd12d8-3530-4b53-8305-15c85ef65c8a",
   "metadata": {},
   "source": [
    "# Neural Network Architecture\n",
    "- Consist of:\n",
    "  - 2 Fully Connected linear NN layers\n",
    "  - Followed by Rectified Linear Units\n",
    "    - ReLU transforms the input to the neuron based on a simple rule:\n",
    "    - If the input is positive, ReLU outputs the input.\n",
    "    - If the input is negative or zero, ReLU outputs zero."
   ]
  },
  {
   "cell_type": "code",
   "execution_count": 6,
   "id": "169bbc83-af2c-4130-bddd-0ad4cb9cf332",
   "metadata": {},
   "outputs": [],
   "source": [
    "#features = 4 so i/p =4\n",
    "#o/p (0,1,2) = 3\n",
    "class simple(nn.Module):\n",
    "    def __init__(self):\n",
    "        super(simple,self).__init__()\n",
    "        self.fc1 = nn.Linear(4,8)\n",
    "        self.fc2 = nn.Linear(8,16)\n",
    "        self.out = nn.Linear(16,3)\n",
    "\n",
    "    def forward(self,x):\n",
    "        x = F.relu(self.fc1(x))\n",
    "        x = F.relu(self.fc2(x))\n",
    "        x = self.out(x)\n",
    "        return x"
   ]
  },
  {
   "cell_type": "markdown",
   "id": "b055f31c-d246-4efa-96cb-bcc743b78e2b",
   "metadata": {},
   "source": [
    "# Model instance \n",
    "- Get the model function\n",
    "- Apply Optimizer\n",
    "- Specify parameters"
   ]
  },
  {
   "cell_type": "code",
   "execution_count": 7,
   "id": "55a41536-5c04-432c-bd75-05215a7ff40c",
   "metadata": {},
   "outputs": [],
   "source": [
    "# Create an instance of model\n",
    "model = simple()\n",
    "\n",
    "# Set the criterion of model to measure the error, how far off the predictions are from the data\n",
    "criterion = nn.CrossEntropyLoss()\n",
    "\n",
    "# Choose Adam Optimizer, lr = learning rate (if error doesn't go down after a bunch of iterations (epochs), lower our learning rate)\n",
    "optimizer = torch.optim.Adam(model.parameters(), lr=0.01)\n",
    "\n",
    "# Hyperparameter \n",
    "num_epochs = 100\n",
    "losses = []"
   ]
  },
  {
   "cell_type": "markdown",
   "id": "7b09cfea-5063-401f-9424-087e7531ddcf",
   "metadata": {},
   "source": [
    "# Train the model over num of epochs"
   ]
  },
  {
   "cell_type": "code",
   "execution_count": 8,
   "id": "dcfdee35-a5a4-49be-9883-c029d305dde7",
   "metadata": {},
   "outputs": [
    {
     "name": "stdout",
     "output_type": "stream",
     "text": [
      "Epoch: 0 and Loss: 1.2042065858840942\n",
      "Epoch: 10 and Loss: 1.0875896215438843\n",
      "Epoch: 20 and Loss: 1.0142500400543213\n",
      "Epoch: 30 and Loss: 0.8524582982063293\n",
      "Epoch: 40 and Loss: 0.7109119296073914\n",
      "Epoch: 50 and Loss: 0.5291529297828674\n",
      "Epoch: 60 and Loss: 0.3346838355064392\n",
      "Epoch: 70 and Loss: 0.17069730162620544\n",
      "Epoch: 80 and Loss: 0.09177954494953156\n",
      "Epoch: 90 and Loss: 0.06909859925508499\n"
     ]
    }
   ],
   "source": [
    "#Train the model! \n",
    "for i in range(num_epochs):\n",
    "    y_pred = model.forward(X_train) # Get predicted results\n",
    "    loss = criterion(y_pred,y_train)  # predicted values vs the y_train\n",
    "    losses.append(loss.detach().numpy()) # Keep Track of our losses\n",
    "\n",
    "    #FOR BACKWARD FLOW\n",
    "    optimizer.zero_grad()\n",
    "    loss.backward()\n",
    "    optimizer.step()\n",
    "\n",
    "    #Print model traing at each epoch\n",
    "    if i % 10 == 0:\n",
    "        print(f\"Epoch: {i} and Loss: {loss}\")"
   ]
  },
  {
   "cell_type": "markdown",
   "id": "047d6b1a-6b98-409b-9347-fd6c375c7894",
   "metadata": {},
   "source": [
    "# Plot learning: Num of epoch increases loss decreases"
   ]
  },
  {
   "cell_type": "code",
   "execution_count": 9,
   "id": "7ceb6e18-22aa-437f-83a5-dc39b909a7a5",
   "metadata": {},
   "outputs": [
    {
     "data": {
      "text/plain": [
       "Text(0.5, 0, 'Num_epochs')"
      ]
     },
     "execution_count": 9,
     "metadata": {},
     "output_type": "execute_result"
    },
    {
     "data": {
      "image/png": "[encoded data removed]",
      "text/plain": [
       "<Figure size 640x480 with 1 Axes>"
      ]
     },
     "metadata": {},
     "output_type": "display_data"
    }
   ],
   "source": [
    "plt.plot(range(num_epochs),losses)\n",
    "plt.ylabel(\"Loss/Error\")\n",
    "plt.xlabel(\"Num_epochs\")"
   ]
  },
  {
   "cell_type": "markdown",
   "id": "caba02f7-dbc5-4fa0-862f-1bba13683618",
   "metadata": {},
   "source": [
    "# Test the model"
   ]
  },
  {
   "cell_type": "code",
   "execution_count": 10,
   "id": "f01950fb-f77d-4f74-bca6-befe84caa3ce",
   "metadata": {},
   "outputs": [
    {
     "name": "stdout",
     "output_type": "stream",
     "text": [
      "1.)  tensor([-2.1851,  6.1408,  1.6745]) \t 1 \t 1\n",
      "We got 1 correct!\n",
      "2.)  tensor([ 11.1582,   4.9726, -12.9089]) \t 0 \t 0\n",
      "We got 2 correct!\n",
      "3.)  tensor([-14.3218,   4.5697,  16.6671]) \t 2 \t 2\n",
      "We got 3 correct!\n",
      "4.)  tensor([-3.0548,  5.9917,  2.7556]) \t 1 \t 1\n",
      "We got 4 correct!\n",
      "5.)  tensor([-2.5273,  6.5917,  1.9871]) \t 1 \t 1\n",
      "We got 5 correct!\n",
      "6.)  tensor([ 10.3616,   4.7024, -11.9836]) \t 0 \t 0\n",
      "We got 6 correct!\n",
      "7.)  tensor([ 0.5150,  5.9293, -1.4820]) \t 1 \t 1\n",
      "We got 7 correct!\n",
      "8.)  tensor([-7.9075,  5.7760,  8.6646]) \t 2 \t 2\n",
      "We got 8 correct!\n",
      "9.)  tensor([-4.5732,  5.3671,  4.6820]) \t 1 \t 1\n",
      "We got 9 correct!\n",
      "10.)  tensor([-0.0919,  6.0411, -0.8091]) \t 1 \t 1\n",
      "We got 10 correct!\n",
      "11.)  tensor([-6.5932,  5.7977,  7.0846]) \t 2 \t 2\n",
      "We got 11 correct!\n",
      "12.)  tensor([  9.8329,   4.2355, -11.3936]) \t 0 \t 0\n",
      "We got 12 correct!\n",
      "13.)  tensor([ 11.2251,   4.8286, -13.0057]) \t 0 \t 0\n",
      "We got 13 correct!\n",
      "14.)  tensor([  9.9625,   4.2983, -11.5411]) \t 0 \t 0\n",
      "We got 14 correct!\n",
      "15.)  tensor([ 10.7500,   4.6509, -12.4471]) \t 0 \t 0\n",
      "We got 15 correct!\n",
      "16.)  tensor([-2.8241,  6.5100,  2.3889]) \t 1 \t 1\n",
      "We got 16 correct!\n",
      "17.)  tensor([-10.9667,   4.7031,  12.5935]) \t 2 \t 2\n",
      "We got 17 correct!\n",
      "18.)  tensor([-0.3124,  5.8333, -0.5216]) \t 1 \t 1\n",
      "We got 18 correct!\n",
      "19.)  tensor([-2.6785,  5.7687,  2.3473]) \t 1 \t 1\n",
      "We got 19 correct!\n",
      "20.)  tensor([-10.9014,   4.5317,  12.5378]) \t 2 \t 2\n",
      "We got 20 correct!\n",
      "21.)  tensor([  9.5543,   4.2049, -11.0597]) \t 0 \t 0\n",
      "We got 21 correct!\n",
      "22.)  tensor([-5.8859,  5.5239,  6.2797]) \t 2 \t 2\n",
      "We got 22 correct!\n",
      "23.)  tensor([  9.7195,   4.5124, -11.2357]) \t 0 \t 0\n",
      "We got 23 correct!\n",
      "24.)  tensor([-10.3240,   4.6449,  11.8179]) \t 2 \t 2\n",
      "We got 24 correct!\n",
      "25.)  tensor([-7.5960,  6.8894,  8.1071]) \t 2 \t 2\n",
      "We got 25 correct!\n",
      "26.)  tensor([-8.8990,  5.3468,  9.9498]) \t 2 \t 2\n",
      "We got 26 correct!\n",
      "27.)  tensor([-9.6440,  4.7720, 10.9585]) \t 2 \t 2\n",
      "We got 27 correct!\n",
      "28.)  tensor([-10.8837,   5.0700,  12.4249]) \t 2 \t 2\n",
      "We got 28 correct!\n",
      "29.)  tensor([  9.5039,   4.2045, -11.0003]) \t 0 \t 0\n",
      "We got 29 correct!\n",
      "30.)  tensor([  9.5386,   4.2251, -11.0398]) \t 0 \t 0\n",
      "We got 30 correct!\n"
     ]
    }
   ],
   "source": [
    "#Testing 20% test data with no_grad , \n",
    "#enumerate numerate all data with index called i strating from 0, \n",
    "#model.forward tests data and store predictions into y_val\n",
    "correct = 0\n",
    "with torch.no_grad():\n",
    "    for i , data in enumerate(X_test):\n",
    "        y_val = model.forward(data)\n",
    "        #y_val returns a tensor of probability of being class 0 , 1 , 2 like [-1.3679,  3.3345, -0.4461]\n",
    "        #.argmax() calculate max value from tensor to make it single tensor with max value [3.3345]\n",
    "        #.item() indicates scalar index value which is here (max value lies at index 1) 1 \n",
    "        if y_val.argmax().item() == y_test[i]:\n",
    "            correct+=1\n",
    "            \n",
    "        print(f'{i+1}.)  {str(y_val)} \\t {y_test[i]} \\t {y_val.argmax().item()}')\n",
    "        print(f'We got {correct} correct!')"
   ]
  },
  {
   "cell_type": "markdown",
   "id": "d7162d9a-fea5-4020-b6b9-8e7743c564be",
   "metadata": {},
   "source": [
    "# TESTING on random values\n",
    "- As data needs 4 features\n",
    "- Test on random fearures value"
   ]
  },
  {
   "cell_type": "code",
   "execution_count": 15,
   "id": "9d55ea94-c127-4c73-ae0b-5ea60f80c806",
   "metadata": {},
   "outputs": [
    {
     "name": "stdout",
     "output_type": "stream",
     "text": [
      "It's Setosa!\n"
     ]
    }
   ],
   "source": [
    "new_iris = torch.tensor([1.0,-9.0,-3.4,-9.3])\n",
    "with torch.no_grad():\n",
    "    output = model(new_iris)\n",
    "    out_class = output.argmax().item()\n",
    "    if out_class==0:\n",
    "        print(\"It's Setosa!\")\n",
    "    elif out_class==1:\n",
    "        print(\"It's Versicolor!\")\n",
    "    else:\n",
    "        print(\"It's Virginica!\")"
   ]
  },
  {
   "cell_type": "markdown",
   "id": "609f54f4-4aa5-4462-82f8-999e427ee87d",
   "metadata": {},
   "source": [
    "# TO SAVE THIS MODEL"
   ]
  },
  {
   "cell_type": "code",
   "execution_count": 21,
   "id": "5f1b58e8-73fa-4e84-b135-98418e113ab2",
   "metadata": {},
   "outputs": [],
   "source": [
    "# save model with specifying path\n",
    "path = \"../my_models/iris_nn.pth\"\n",
    "torch.save(model.state_dict(), path)"
   ]
  },
  {
   "cell_type": "markdown",
   "id": "4b93098b-ca0c-4ce6-9c45-bcdc51badff8",
   "metadata": {},
   "source": [
    "# Load the Saved Model"
   ]
  },
  {
   "cell_type": "code",
   "execution_count": 22,
   "id": "c3ed5789-031a-4980-93f9-dd1f7bb255db",
   "metadata": {},
   "outputs": [
    {
     "name": "stderr",
     "output_type": "stream",
     "text": [
      "C:\\Users\\user\\AppData\\Local\\Temp\\ipykernel_7700\\2000243150.py:3: FutureWarning: You are using `torch.load` with `weights_only=False` (the current default value), which uses the default pickle module implicitly. It is possible to construct malicious pickle data which will execute arbitrary code during unpickling (See https://github.com/pytorch/pytorch/blob/main/SECURITY.md#untrusted-models for more details). In a future release, the default value for `weights_only` will be flipped to `True`. This limits the functions that could be executed during unpickling. Arbitrary objects will no longer be allowed to be loaded via this mode unless they are explicitly allowlisted by the user via `torch.serialization.add_safe_globals`. We recommend you start setting `weights_only=True` for any use case where you don't have full control of the loaded file. Please open an issue on GitHub for any issues related to this experimental feature.\n",
      "  new_model.load_state_dict(torch.load(path))\n"
     ]
    },
    {
     "data": {
      "text/plain": [
       "<All keys matched successfully>"
      ]
     },
     "execution_count": 22,
     "metadata": {},
     "output_type": "execute_result"
    }
   ],
   "source": [
    "# As path already holds name of model \n",
    "new_model = simple()\n",
    "new_model.load_state_dict(torch.load(path))"
   ]
  },
  {
   "cell_type": "markdown",
   "id": "423a1015-c2a7-44dc-adc0-6d1c7a015bbc",
   "metadata": {},
   "source": [
    "# Evaluation mode\n",
    "- Evaluation mode ensures that layers like dropout and batch normalization function correctly during inference.\n",
    "- Without it, these layers may behave inappropriately, leading to inconsistent results."
   ]
  },
  {
   "cell_type": "code",
   "execution_count": 23,
   "id": "e04768d9-787e-4e52-a9c3-8d992fbfc42d",
   "metadata": {},
   "outputs": [
    {
     "data": {
      "text/plain": [
       "simple(\n",
       "  (fc1): Linear(in_features=4, out_features=8, bias=True)\n",
       "  (fc2): Linear(in_features=8, out_features=16, bias=True)\n",
       "  (out): Linear(in_features=16, out_features=3, bias=True)\n",
       ")"
      ]
     },
     "execution_count": 23,
     "metadata": {},
     "output_type": "execute_result"
    }
   ],
   "source": [
    "model.eval()"
   ]
  }
 ],
 "metadata": {
  "kernelspec": {
   "display_name": "Python 3 (ipykernel)",
   "language": "python",
   "name": "python3"
  },
  "language_info": {
   "codemirror_mode": {
    "name": "ipython",
    "version": 3
   },
   "file_extension": ".py",
   "mimetype": "text/x-python",
   "name": "python",
   "nbconvert_exporter": "python",
   "pygments_lexer": "ipython3",
   "version": "3.9.21"
  },
  "widgets": {
   "application/vnd.jupyter.widget-state+json": {
    "state": {},
    "version_major": 2,
    "version_minor": 0
   }
  }
 },
 "nbformat": 4,
 "nbformat_minor": 5
}
